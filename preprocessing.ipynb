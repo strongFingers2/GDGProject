{
  "nbformat": 4,
  "nbformat_minor": 0,
  "metadata": {
    "colab": {
      "provenance": []
    },
    "kernelspec": {
      "name": "python3",
      "display_name": "Python 3"
    },
    "language_info": {
      "name": "python"
    }
  },
  "cells": [
    {
      "cell_type": "markdown",
      "source": [
        "First we load the dataset."
      ],
      "metadata": {
        "id": "u9pDdzlH0Egj"
      }
    },
    {
      "cell_type": "code",
      "execution_count": 2,
      "metadata": {
        "id": "NPkZjeYCzymZ"
      },
      "outputs": [],
      "source": [
        "import pandas as pd\n",
        "f = pd.read_csv(\"drive/MyDrive/final_dataset.csv\")"
      ]
    },
    {
      "cell_type": "markdown",
      "source": [
        "Then we divide the dataset into test and train splits."
      ],
      "metadata": {
        "id": "skrjIoO80L_9"
      }
    },
    {
      "cell_type": "code",
      "source": [
        "from sklearn.model_selection import train_test_split\n",
        "\n",
        "# Split into train (80%) and test (20%)\n",
        "f1, test_f = train_test_split(f, test_size=0.2, random_state=42)\n",
        "\n",
        "# Save to new CSVs\n",
        "f1.to_csv(\"train.csv\", index=False)\n",
        "test_f.to_csv(\"test.csv\", index=False)"
      ],
      "metadata": {
        "id": "G4IeIbkE_jqF"
      },
      "execution_count": 4,
      "outputs": []
    },
    {
      "cell_type": "markdown",
      "source": [
        "We first check for any missing data if available and try to take care of it.\n",
        "The most common way to do so is to replace it with its category's medium.\n"
      ],
      "metadata": {
        "id": "FsvGoiOLsT-K"
      }
    },
    {
      "cell_type": "code",
      "source": [
        "print(f.isna().sum())"
      ],
      "metadata": {
        "colab": {
          "base_uri": "https://localhost:8080/"
        },
        "id": "S0Bubn_b-BfH",
        "outputId": "56f137dd-f031-4b06-d7a9-77ff04809321"
      },
      "execution_count": 5,
      "outputs": [
        {
          "output_type": "stream",
          "name": "stdout",
          "text": [
            "index               0\n",
            "role                0\n",
            "committype          0\n",
            "fileextensions      0\n",
            "numfileschanged     0\n",
            "linesadded          0\n",
            "linesdeleted        0\n",
            "numcommentsadded    0\n",
            "timeofcommit        0\n",
            "commitmessage       0\n",
            "dtype: int64\n"
          ]
        }
      ]
    },
    {
      "cell_type": "markdown",
      "source": [
        "# **Lets begin with the main preprocessing of the data:**\n",
        "First let us convert the target labels and committype into integers."
      ],
      "metadata": {
        "id": "n59XPu-p1Udd"
      }
    },
    {
      "cell_type": "code",
      "source": [
        "from sklearn.preprocessing import LabelEncoder\n",
        "le = LabelEncoder()\n",
        "f[\"role_encoded\"] = le.fit_transform(f[\"role\"])\n",
        "le1 = LabelEncoder()\n",
        "f[\"new_committype\"] = le1.fit_transform(f[\"committype\"])"
      ],
      "metadata": {
        "id": "iiZvUkans_HK"
      },
      "execution_count": 6,
      "outputs": []
    },
    {
      "cell_type": "markdown",
      "source": [
        "Now let us count the number of distinct words available in the commitmessage critiria to give us a basic idea on the max_features used."
      ],
      "metadata": {
        "id": "aiSvsCYsxKF2"
      }
    },
    {
      "cell_type": "code",
      "source": [
        "import re\n",
        "\n",
        "def clean_text(text):\n",
        "    text = text.lower()  # lowercase\n",
        "    text = re.sub(r'[^\\w\\s]', '', text)  # remove punctuation\n",
        "    text = re.sub(r'\\s+', ' ', text).strip()  # remove extra spaces\n",
        "    return text.split()\n",
        "\n",
        "words = f[\"commitmessage\"].apply(clean_text)\n",
        "words = [word for sublist in words for word in sublist]\n",
        "dwords = set(words)\n",
        "len(dwords)"
      ],
      "metadata": {
        "colab": {
          "base_uri": "https://localhost:8080/"
        },
        "id": "8yEMGuq2u5qT",
        "outputId": "f5f4e82f-d176-405a-fc03-613cd61b9cc0"
      },
      "execution_count": 7,
      "outputs": [
        {
          "output_type": "execute_result",
          "data": {
            "text/plain": [
              "1344"
            ]
          },
          "metadata": {},
          "execution_count": 7
        }
      ]
    },
    {
      "cell_type": "code",
      "source": [
        "import re\n",
        "\n",
        "def clean_text(text):\n",
        "    text = text.lower()  # lowercase\n",
        "    text = re.sub(r'[^\\w\\s]', '', text)  # remove punctuation\n",
        "    text = re.sub(r'\\s+', ' ', text).strip()  # remove extra spaces\n",
        "    return text\n",
        "\n",
        "f[\"processedMessage\"] = f[\"commitmessage\"].apply(clean_text)\n",
        "f[\"processedMessage\"]"
      ],
      "metadata": {
        "id": "PVY8ylhs478o",
        "colab": {
          "base_uri": "https://localhost:8080/",
          "height": 458
        },
        "outputId": "8c546e46-8032-4eb7-9e81-6a903dea6df7"
      },
      "execution_count": 8,
      "outputs": [
        {
          "output_type": "execute_result",
          "data": {
            "text/plain": [
              "0       implement responsive ui component with dropdow...\n",
              "1       refactor ui components implement responsive th...\n",
              "2       feat implement responsive ui layout with modal...\n",
              "3       refactored ui components for responsive layout...\n",
              "4       feat implement responsive ui layout for login ...\n",
              "                              ...                        \n",
              "1495    implement responsive ui layout for login page ...\n",
              "1496    implement responsive ui improvements for login...\n",
              "1497    fixed authentication logic for api login endpo...\n",
              "1498    implemented responsive modal dropdown componen...\n",
              "1499    added 12 files including yml_json py test_js a...\n",
              "Name: processedMessage, Length: 1500, dtype: object"
            ],
            "text/html": [
              "<div>\n",
              "<style scoped>\n",
              "    .dataframe tbody tr th:only-of-type {\n",
              "        vertical-align: middle;\n",
              "    }\n",
              "\n",
              "    .dataframe tbody tr th {\n",
              "        vertical-align: top;\n",
              "    }\n",
              "\n",
              "    .dataframe thead th {\n",
              "        text-align: right;\n",
              "    }\n",
              "</style>\n",
              "<table border=\"1\" class=\"dataframe\">\n",
              "  <thead>\n",
              "    <tr style=\"text-align: right;\">\n",
              "      <th></th>\n",
              "      <th>processedMessage</th>\n",
              "    </tr>\n",
              "  </thead>\n",
              "  <tbody>\n",
              "    <tr>\n",
              "      <th>0</th>\n",
              "      <td>implement responsive ui component with dropdow...</td>\n",
              "    </tr>\n",
              "    <tr>\n",
              "      <th>1</th>\n",
              "      <td>refactor ui components implement responsive th...</td>\n",
              "    </tr>\n",
              "    <tr>\n",
              "      <th>2</th>\n",
              "      <td>feat implement responsive ui layout with modal...</td>\n",
              "    </tr>\n",
              "    <tr>\n",
              "      <th>3</th>\n",
              "      <td>refactored ui components for responsive layout...</td>\n",
              "    </tr>\n",
              "    <tr>\n",
              "      <th>4</th>\n",
              "      <td>feat implement responsive ui layout for login ...</td>\n",
              "    </tr>\n",
              "    <tr>\n",
              "      <th>...</th>\n",
              "      <td>...</td>\n",
              "    </tr>\n",
              "    <tr>\n",
              "      <th>1495</th>\n",
              "      <td>implement responsive ui layout for login page ...</td>\n",
              "    </tr>\n",
              "    <tr>\n",
              "      <th>1496</th>\n",
              "      <td>implement responsive ui improvements for login...</td>\n",
              "    </tr>\n",
              "    <tr>\n",
              "      <th>1497</th>\n",
              "      <td>fixed authentication logic for api login endpo...</td>\n",
              "    </tr>\n",
              "    <tr>\n",
              "      <th>1498</th>\n",
              "      <td>implemented responsive modal dropdown componen...</td>\n",
              "    </tr>\n",
              "    <tr>\n",
              "      <th>1499</th>\n",
              "      <td>added 12 files including yml_json py test_js a...</td>\n",
              "    </tr>\n",
              "  </tbody>\n",
              "</table>\n",
              "<p>1500 rows × 1 columns</p>\n",
              "</div><br><label><b>dtype:</b> object</label>"
            ]
          },
          "metadata": {},
          "execution_count": 8
        }
      ]
    },
    {
      "cell_type": "markdown",
      "source": [
        "Next we use tf vectorizer to make tf-idf matrix which makes a list of all the words."
      ],
      "metadata": {
        "id": "Rqy4wJam1_Rx"
      }
    },
    {
      "cell_type": "code",
      "source": [
        "from sklearn.feature_extraction.text import TfidfVectorizer\n",
        "vectorizer = TfidfVectorizer(max_features=800, stop_words='english', ngram_range=(1, 2))\n",
        "tfidf_matrix = vectorizer.fit_transform(f['processedMessage'])"
      ],
      "metadata": {
        "id": "SOCIK6QSDvVw"
      },
      "execution_count": 9,
      "outputs": []
    },
    {
      "cell_type": "markdown",
      "source": [
        "Then we clean the file extensions."
      ],
      "metadata": {
        "id": "UHix7W9n3tMl"
      }
    },
    {
      "cell_type": "code",
      "source": [
        "import re\n",
        "\n",
        "def clean_fileextensions_safe(val):\n",
        "    val = str(val)\n",
        "    # Extract extensions inside quotes\n",
        "    return re.findall(r\"'(.*?)'\", val)\n",
        "\n",
        "# Apply regex cleaning\n",
        "f['fileextensions_cleaned'] = f['fileextensions'].apply(clean_fileextensions_safe)\n",
        "f['fileextensions_cleaned']\n"
      ],
      "metadata": {
        "colab": {
          "base_uri": "https://localhost:8080/",
          "height": 458
        },
        "id": "eu4qbalgFhxk",
        "outputId": "3446c2ed-bb98-47af-f186-996de2218ab0"
      },
      "execution_count": 10,
      "outputs": [
        {
          "output_type": "execute_result",
          "data": {
            "text/plain": [
              "0                                                 [js_ts]\n",
              "1                                                   [css]\n",
              "2                                                  [html]\n",
              "3                                                 [js_ts]\n",
              "4                                           [js_ts, html]\n",
              "                              ...                        \n",
              "1495                                       [java_go, css]\n",
              "1496                                              [js_ts]\n",
              "1497                                                [sql]\n",
              "1498                                                [css]\n",
              "1499    [yml_json, py, test_js, css, java_go, html, py...\n",
              "Name: fileextensions_cleaned, Length: 1500, dtype: object"
            ],
            "text/html": [
              "<div>\n",
              "<style scoped>\n",
              "    .dataframe tbody tr th:only-of-type {\n",
              "        vertical-align: middle;\n",
              "    }\n",
              "\n",
              "    .dataframe tbody tr th {\n",
              "        vertical-align: top;\n",
              "    }\n",
              "\n",
              "    .dataframe thead th {\n",
              "        text-align: right;\n",
              "    }\n",
              "</style>\n",
              "<table border=\"1\" class=\"dataframe\">\n",
              "  <thead>\n",
              "    <tr style=\"text-align: right;\">\n",
              "      <th></th>\n",
              "      <th>fileextensions_cleaned</th>\n",
              "    </tr>\n",
              "  </thead>\n",
              "  <tbody>\n",
              "    <tr>\n",
              "      <th>0</th>\n",
              "      <td>[js_ts]</td>\n",
              "    </tr>\n",
              "    <tr>\n",
              "      <th>1</th>\n",
              "      <td>[css]</td>\n",
              "    </tr>\n",
              "    <tr>\n",
              "      <th>2</th>\n",
              "      <td>[html]</td>\n",
              "    </tr>\n",
              "    <tr>\n",
              "      <th>3</th>\n",
              "      <td>[js_ts]</td>\n",
              "    </tr>\n",
              "    <tr>\n",
              "      <th>4</th>\n",
              "      <td>[js_ts, html]</td>\n",
              "    </tr>\n",
              "    <tr>\n",
              "      <th>...</th>\n",
              "      <td>...</td>\n",
              "    </tr>\n",
              "    <tr>\n",
              "      <th>1495</th>\n",
              "      <td>[java_go, css]</td>\n",
              "    </tr>\n",
              "    <tr>\n",
              "      <th>1496</th>\n",
              "      <td>[js_ts]</td>\n",
              "    </tr>\n",
              "    <tr>\n",
              "      <th>1497</th>\n",
              "      <td>[sql]</td>\n",
              "    </tr>\n",
              "    <tr>\n",
              "      <th>1498</th>\n",
              "      <td>[css]</td>\n",
              "    </tr>\n",
              "    <tr>\n",
              "      <th>1499</th>\n",
              "      <td>[yml_json, py, test_js, css, java_go, html, py...</td>\n",
              "    </tr>\n",
              "  </tbody>\n",
              "</table>\n",
              "<p>1500 rows × 1 columns</p>\n",
              "</div><br><label><b>dtype:</b> object</label>"
            ]
          },
          "metadata": {},
          "execution_count": 10
        }
      ]
    },
    {
      "cell_type": "markdown",
      "source": [
        "Then we go ahead to make some changes to the numeric data available to us. And perform some basic operations to make it better and also we scale it."
      ],
      "metadata": {
        "id": "Xt7NV2Pt3-7a"
      }
    },
    {
      "cell_type": "code",
      "source": [
        "f['net_lines'] = f['linesadded'] - f['linesdeleted']"
      ],
      "metadata": {
        "id": "9aLKrCgQpn8c"
      },
      "execution_count": null,
      "outputs": []
    },
    {
      "cell_type": "code",
      "source": [
        "from sklearn.preprocessing import StandardScaler, MinMaxScaler\n",
        "scaler = StandardScaler()\n",
        "f[['scaled_net_lines', 'scaled_files_changed', 'scaled_numcommentsadded']] = scaler.fit_transform(f[['net_lines', 'numfileschanged', 'numcommentsadded']])"
      ],
      "metadata": {
        "id": "A-f85oihp_ay"
      },
      "execution_count": null,
      "outputs": []
    },
    {
      "cell_type": "markdown",
      "source": [
        "We convert day and hour to machine readable inputs."
      ],
      "metadata": {
        "id": "5QHia--H48je"
      }
    },
    {
      "cell_type": "code",
      "source": [
        "f[['day', 'hour']] = f['timeofcommit'].str.split(\" \", expand = True)\n",
        "f['hour'] = f['hour'].str.replace(':00', '', regex=False)\n",
        "f['hour'] = pd.to_numeric(f['hour'], errors='coerce')\n",
        "f['hour'] = f['hour'].fillna(f['hour'].median()).astype(int)\n",
        "days= {'Monday': 1, 'Tuesday': 2, 'Wednesday': 3, 'Thursday': 4, 'Friday': 5, 'Saturday': 6, 'Sunday': 7}\n",
        "f['day_mapped'] = f['day'].map(days)\n"
      ],
      "metadata": {
        "id": "O7ltfoVB5GqQ"
      },
      "execution_count": null,
      "outputs": []
    },
    {
      "cell_type": "markdown",
      "source": [
        "We convert hours as a sinusoidal function"
      ],
      "metadata": {
        "id": "GXpLrDDo5QIH"
      }
    },
    {
      "cell_type": "code",
      "source": [
        "import numpy as np\n",
        "f['hour_sin'] = np.sin(2*np.pi*f['hour']/24)"
      ],
      "metadata": {
        "id": "-NAPYRnhxJG_"
      },
      "execution_count": null,
      "outputs": []
    }
  ]
}